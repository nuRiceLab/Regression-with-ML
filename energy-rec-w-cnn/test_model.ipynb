{
 "cells": [
  {
   "cell_type": "markdown",
   "metadata": {},
   "source": [
    "## Setup\n"
   ]
  },
  {
   "cell_type": "code",
   "execution_count": null,
   "metadata": {},
   "outputs": [],
   "source": [
    "import numpy as np\n",
    "from matplotlib import pyplot as plt\n",
    "from glob import glob\n",
    "import tensorflow as tf\n",
    "from tensorflow.keras import models\n",
    "from datagen import DataGenerator # Custom class import"
   ]
  },
  {
   "cell_type": "markdown",
   "metadata": {},
   "source": [
    "Set global variables.\n",
    "\n",
    "Paths should be formatted _exactly_ as shown.\n"
   ]
  },
  {
   "cell_type": "code",
   "execution_count": null,
   "metadata": {},
   "outputs": [],
   "source": [
    "SAVE_PATH = \"/path/to/save/\"\n",
    "LOAD_PATH = \"/path/to/load/\"\n",
    "\n",
    "PARAMS = {\"batch_size\": 8,\n",
    "          \"views\": 3,\n",
    "          \"planes\": 500,\n",
    "          \"cells\": 500,\n",
    "          \"n_channels\": 3}\n",
    "\n",
    "TEST_FILES = [file[:-3] for file in glob(\"/path/to/batch/images.gz\")]\n",
    "TEST_GENERATOR = DataGenerator(TEST_FILES, **PARAMS)"
   ]
  },
  {
   "cell_type": "markdown",
   "metadata": {},
   "source": [
    "Accelerate performance.\n"
   ]
  },
  {
   "cell_type": "code",
   "execution_count": null,
   "metadata": {},
   "outputs": [],
   "source": [
    "config = tf.compat.v1.ConfigProto()\n",
    "config.gpu_options.allow_growth = True\n",
    "session = tf.compat.v1.Session(config=config)"
   ]
  },
  {
   "cell_type": "markdown",
   "metadata": {},
   "source": [
    "## Run Tests\n"
   ]
  },
  {
   "cell_type": "markdown",
   "metadata": {},
   "source": [
    "Reload the trained model.\n"
   ]
  },
  {
   "cell_type": "code",
   "execution_count": null,
   "metadata": {},
   "outputs": [],
   "source": [
    "model = tf.keras.models.load_model(LOAD_PATH)\n",
    "model.summary()"
   ]
  },
  {
   "cell_type": "markdown",
   "metadata": {},
   "source": [
    "First, directly evaluate the test loss; then, compare predicted values with actual values for the energy.\n",
    "\n",
    "Labels are log-scaled to allow for better visualization.\n"
   ]
  },
  {
   "cell_type": "code",
   "execution_count": null,
   "metadata": {},
   "outputs": [],
   "source": [
    "test_loss = model.evaluate(TEST_GENERATOR, verbose=4)\n",
    "print(test_loss)\n",
    "\n",
    "test_pred = np.log(model.predict(TEST_GENERATOR).flatten())\n",
    "test_labels = []\n",
    "for file in TEST_GENERATOR.files:\n",
    "    info = open(file + \".info\", \"rb\").readlines()\n",
    "    nuenergy = float(info[1])\n",
    "    test_labels.append(nuenergy)\n",
    "test_labels = np.log(np.array(test_labels))"
   ]
  },
  {
   "cell_type": "markdown",
   "metadata": {},
   "source": [
    "Visualize the comparisons using matplotlib.\n",
    "\n",
    "Block 1: scatter plot.\n",
    "Block 2: 2D histogram.\n"
   ]
  },
  {
   "cell_type": "code",
   "execution_count": null,
   "metadata": {},
   "outputs": [],
   "source": [
    "plt.axes(aspect=\"equal\")\n",
    "plt.xlim([-2,5])\n",
    "plt.ylim([-2,5])\n",
    "plt.axline((0, 0), slope=1, color=\"black\", lw=0.5)\n",
    "plt.scatter(test_labels, test_pred, s=1.5)\n",
    "plt.xlabel(\"Actual [ln(GeV)]\")\n",
    "plt.ylabel(\"Predicted [ln(GeV)]\")\n",
    "plt.savefig(SAVE_PATH+\"test_loss.png\")"
   ]
  },
  {
   "cell_type": "code",
   "execution_count": null,
   "metadata": {},
   "outputs": [],
   "source": [
    "plt.clf()\n",
    "\n",
    "plt.axes(aspect=\"equal\")\n",
    "plt.hist2d(test_labels, test_pred,\n",
    "           bins=35, range=[[-2,5],[-2,5]], cmin=1, cmap=\"Blues\");\n",
    "plt.xlabel(\"Actual [ln(GeV)]\")\n",
    "plt.ylabel(\"Predicted [ln(GeV)]\")\n",
    "plt.savefig(SAVE_PATH+\"test_loss_hist.png\")"
   ]
  }
 ],
 "metadata": {
  "kernelspec": {
   "display_name": "Python 3",
   "language": "python",
   "name": "python3"
  },
  "language_info": {
   "codemirror_mode": {
    "name": "ipython",
    "version": 3
   },
   "file_extension": ".py",
   "mimetype": "text/x-python",
   "name": "python",
   "nbconvert_exporter": "python",
   "pygments_lexer": "ipython3",
   "version": "3.10.11"
  },
  "orig_nbformat": 4
 },
 "nbformat": 4,
 "nbformat_minor": 2
}
